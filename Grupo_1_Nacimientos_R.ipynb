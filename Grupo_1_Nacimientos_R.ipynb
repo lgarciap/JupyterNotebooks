{
 "cells": [
  {
   "cell_type": "markdown",
   "metadata": {
    "id": "U-4Fsa3FM6gi"
   },
   "source": [
    "# Carga de datos y paquetes\n"
   ]
  },
  {
   "cell_type": "code",
   "execution_count": null,
   "metadata": {
    "colab": {
     "base_uri": "https://localhost:8080/"
    },
    "id": "XyVhKEIZM2c6",
    "outputId": "abe2b94a-27f3-4ba0-c4d8-a6e0706ec4fe"
   },
   "outputs": [],
   "source": [
    "library(tidyverse)\n",
    "library(ggplot2)"
   ]
  },
  {
   "cell_type": "code",
   "execution_count": null,
   "metadata": {
    "colab": {
     "base_uri": "https://localhost:8080/"
    },
    "id": "IZ73ihkIMEk3",
    "outputId": "dbcc7253-96cd-410d-ed15-84e14eacc52b"
   },
   "outputs": [],
   "source": [
    "#Cargando los datos\n",
    "load(\"Nacimientos_GT.RData\")\n",
    "head(NacSimpl)"
   ]
  },
  {
   "cell_type": "code",
   "execution_count": null,
   "metadata": {
    "id": "qR1bYdM7Nqqg"
   },
   "outputs": [],
   "source": [
    "\n",
    "#Configurando los colores\n",
    "mipaletaHex<-c(\"#F2167D\",\"#049DD9\",\"#05C7F2\",\"#F2C641\",\"#F2865E\",\"#10B1C9\",\"#FFD042\",\"#F06B54\",\"#81BD28\",\"#743ACC\")\n",
    "mipaleta <- c(\n",
    "  rgb(242, 22, 125,maxColorValue = 255, names = c(\"fucsia\")) ,##F2167D\n",
    "  rgb( 4, 157, 217,maxColorValue = 255, names = c(\"azul claro\")),##049DD9\n",
    "  rgb( 5, 199, 242,maxColorValue = 255, names = c(\"celeste\")),##05C7F2\n",
    "  rgb(242, 198, 65,maxColorValue = 255, names = c(\"amarillo\")),##F2C641\n",
    "  rgb(242, 134, 94,maxColorValue = 255, names = c(\"anaranjado claro\")),##F2865E\n",
    "  rgb(16, 177, 201,maxColorValue = 255, names = c(\"azulado\")),##10B1C9\n",
    "  rgb(255, 208, 66,maxColorValue = 255, names = c(\"amarillo oscuro\")),##FFD042\n",
    "  rgb(240, 107, 84,maxColorValue = 255, names = c(\"anaranjado oscuro\")),##F06B54\n",
    "  rgb(129, 189, 40,maxColorValue = 255, names = c(\"verde\")),##81BD28\n",
    "  rgb(116, 58, 204,maxColorValue = 255, names = c(\"morado\"))##743ACC\n",
    "  \n",
    ")"
   ]
  },
  {
   "cell_type": "markdown",
   "metadata": {
    "id": "OQ6WvdUHOe07"
   },
   "source": [
    "# Descripción del conjunto de datos\n",
    "Este conjunto de datos fue extraido de las bases de datos del [Instituto Nacional de Estadísticas (INE)](https://www.ine.gob.gt/ine/). Se trata de los datos de los nacimientos registrados entre los años 2009 a 2019 en Guatemala. Originalmente se contaba con 10 archivos (1 por año) que se unificaron. Se crearon variables con valores faltantes en aquellos archivos donde no había información con el objetivo de unificar las filas. El conjunto está compuesto por 4,162,965 observaciones de 46 variables. Se escogieron las siguientes 10 variables para hacer un análisis preliminar.\n",
    "\n",
    "### Descripción de variables:\n",
    "\n",
    "-   **Añoocu**: Año en el que se produjo el nacimiento\n",
    "\n",
    "    -   Rango: 2009 - 2019\n",
    "\n",
    "-   **Asisrec**: Tipo de asistencia recibida en el alumbramiento\n",
    "\n",
    "    -   Valores posibles: (Comadrona, Médica, Paramédica, Empírica, Ninguna, Ignorado)\n",
    "\n",
    "-   **Depocu**: Departamento de ocurrencia del nacimiento\n",
    "\n",
    "-   **Edadm**: Edad de la madre\n",
    "\n",
    "-   **Edadp**: Edad del padre\n",
    "\n",
    "-   **Escivm**: Estado Civil de la madre\n",
    "\n",
    "    -   Valores Posibles: (Soltera, Casada, Unida, Viuda, Divorciada,Ignorado)\n",
    "\n",
    "-   **Escivp**: Estado Civil del padre\n",
    "\n",
    "    -   Valores Posibles: (Soltero, Casado, Unido, Viudo, Divorciado,Ignorado)\n",
    "\n",
    "-   **Escolam**: Escolaridad de la madre\n",
    "\n",
    "    -   Valores Posibles: Básico, Diversificado, Doctorado, Ignorado, Ninguno, Postgrado, Primaria, Universitario\n",
    "\n",
    "-   **Escolap**: Escolaridad del padre\n",
    "\n",
    "    -   Valores Posibles: Básico, Diversificado, Doctorado, Ignorado, Ninguno, Postgrado, Primaria, Universitario\n",
    "\n",
    "-   **Sexo**: Género del recien nacido\n",
    "\n",
    "    -   Valores Posibles: Hombre, Mujer\n"
   ]
  },
  {
   "cell_type": "markdown",
   "metadata": {
    "id": "IhdH4smOPu_I"
   },
   "source": [
    "# Análisis Exploratorio"
   ]
  },
  {
   "cell_type": "markdown",
   "metadata": {
    "id": "6YH_dCEhP8eA"
   },
   "source": [
    "## <font color=\"#0896c9\">Año de Nacimiento</font>\n",
    "\n"
   ]
  },
  {
   "cell_type": "code",
   "execution_count": null,
   "metadata": {
    "colab": {
     "base_uri": "https://localhost:8080/",
     "height": 497
    },
    "id": "CgNyN9nqObT7",
    "outputId": "22453bc7-09a0-4928-d493-3c40202b9585"
   },
   "outputs": [],
   "source": [
    "nacXanio<-as.data.frame(table(NacSimpl$Añoocu))\n",
    "names(nacXanio)<-c(\"Año\",\"Cantidad\")\n",
    "\n",
    "\n",
    "g<-ggplot(nacXanio, aes(x = Año, y = Cantidad ))+ \n",
    "  geom_line(aes(group=3), color=\"#F06B54\") +\n",
    "  labs(title=\"Nacimientos por año\",\n",
    "        x =\"Años\", y = \"Cantidad\")+\n",
    "  theme_minimal()\n",
    "  \n",
    "\n",
    "g"
   ]
  },
  {
   "cell_type": "markdown",
   "metadata": {
    "id": "55O9CUIwQqd1"
   },
   "source": [
    "### ¿Qué nos dice la gráfica anterior? ¿Qué años registran mayor cantidad de nacimientos?¿y menor?"
   ]
  },
  {
   "cell_type": "markdown",
   "metadata": {
    "id": "OsDJeLs_WNjI"
   },
   "source": [
    "## <font color=\"#0896c9\">Asistencia en el nacimiento</font>"
   ]
  },
  {
   "cell_type": "code",
   "execution_count": null,
   "metadata": {
    "colab": {
     "base_uri": "https://localhost:8080/",
     "height": 497
    },
    "id": "agFGJq7zRDtG",
    "outputId": "3843c341-cb97-4464-e856-eda0ee867446"
   },
   "outputs": [],
   "source": [
    "prop.table(table(NacSimpl$Asisrec))*100\n",
    "\n",
    "asisRecXnac<-as.data.frame(prop.table(table(NacSimpl$Asisrec))*100)\n",
    "names(asisRecXnac)<-c(\"Tipo\",\"Porciento\")\n",
    "\n",
    "g<-ggplot(asisRecXnac, aes(x = Tipo, y = Porciento, fill=Tipo ))+ \n",
    "  geom_bar(stat = \"identity\", color=\"gray\")+\n",
    "  labs(title=\"Porcentaje de nacimientos por Tipo de asistencia\",\n",
    "        x =\"Tipo de asistencia recibida\", y = \"Porciento\")+\n",
    "  theme_minimal()+scale_fill_manual(values=mipaletaHex)\n",
    "\n",
    " \n",
    "g"
   ]
  },
  {
   "cell_type": "markdown",
   "metadata": {
    "id": "JTrheUjKWqxg"
   },
   "source": [
    "### ¿Cuáles son las dos formas de asistencia en el nacimiento que predominan?¿Cuáles son los porcentajes?"
   ]
  },
  {
   "cell_type": "markdown",
   "metadata": {
    "id": "6K1mDKRWdnvJ"
   },
   "source": [
    "## <font color=\"#0896c9\">Edad de los padres</font>"
   ]
  },
  {
   "cell_type": "code",
   "execution_count": null,
   "metadata": {
    "colab": {
     "base_uri": "https://localhost:8080/",
     "height": 548
    },
    "id": "hVXpwwKoWi8P",
    "outputId": "4a4decb3-9fe8-4273-9ac0-e66c83b2e7b9"
   },
   "outputs": [],
   "source": [
    "print(\"Resumen de la edad de la madre\")\n",
    "print(summary(NacSimpl$Edadm))\n",
    "edadMDF <- NacSimpl[complete.cases(NacSimpl$Edadm),]\n",
    "\n",
    "g <-ggplot(edadMDF, aes(x=Edadm)) +\n",
    "     geom_histogram( binwidth=1, fill=mipaletaHex[1], color=\"#e9ecef\", alpha=0.9) +\n",
    "    #geom_histogram(binwidth=1)+\n",
    "    labs(title=\"Nacimientos por Edad de la Madre\",\n",
    "        x =\"Edad de la madre\", y = \"Frecuencia\")+\n",
    "  theme_minimal()\n",
    "\n",
    "g"
   ]
  },
  {
   "cell_type": "code",
   "execution_count": null,
   "metadata": {
    "colab": {
     "base_uri": "https://localhost:8080/",
     "height": 548
    },
    "id": "Eb10j5H_XV27",
    "outputId": "54606a10-6b48-46c4-a112-fbbab9eb573a"
   },
   "outputs": [],
   "source": [
    "print(\"Resumen de la edad del padre\")\n",
    "print(summary(NacSimpl$Edadp))\n",
    "edadPDF <- NacSimpl[complete.cases(NacSimpl$Edadp),]\n",
    "dfEdadP <- as.data.frame(edadPDF$Edadp)\n",
    "names(dfEdadP)<-c(\"Edad\")\n",
    "dfEdadM <- as.data.frame(edadPDF$Edadm)\n",
    "names(dfEdadM)<-c(\"Edad\")\n",
    "dfEdadP$Progenitor<-\"Padre\"\n",
    "dfEdadM$Progenitor<-\"Madre\"\n",
    "dfEdad <- rbind(dfEdadM,dfEdadP)\n",
    "dfEdad<-dfEdad[complete.cases(dfEdad$Edad),]\n",
    "rm(dfEdadM,dfEdadP)\n",
    "g <-ggplot(edadPDF, aes(x=Edadp)) +\n",
    "    # geom_histogram( binwidth=3, fill=\"#69b3a2\", color=\"#e9ecef\", alpha=0.9) +\n",
    "    geom_histogram(binwidth=1,fill=mipaletaHex[2], color=\"#e9ecef\", alpha=0.9)+\n",
    "    theme_minimal()+\n",
    "    labs(title=\"Nacimientos por Edad del Padre\",\n",
    "        x =\"Edad del padre\", y = \"Frecuencia\")\n",
    "g\n"
   ]
  },
  {
   "cell_type": "code",
   "execution_count": null,
   "metadata": {
    "colab": {
     "base_uri": "https://localhost:8080/",
     "height": 497
    },
    "id": "i8HSwbcveER7",
    "outputId": "299644ea-3cf2-4e39-96b1-f930f910706e"
   },
   "outputs": [],
   "source": [
    "f <- ggplot(dfEdad, aes(x=Progenitor, y=Edad, fill=Progenitor)) + \n",
    "    geom_boxplot()+\n",
    "  scale_fill_manual(values = mipaletaHex[c(1,2)])+\n",
    "  theme_minimal()+\n",
    "    labs(title=\"Nacimientos por Edad del Padre y la Madre\",\n",
    "        x =\"Progenitor\", y = \"Edad\")\n",
    "f"
   ]
  },
  {
   "cell_type": "markdown",
   "metadata": {
    "id": "lFDr5JXjXLI3"
   },
   "source": [
    " \n",
    "\n",
    "1.   ¿Cuáles son las edades más frecuentes de las madres?\n",
    "2.   ¿y de los padres?\n",
    "3.   ¿En general quien es más joven al momento del nacimiento, el padre o la madre?\n",
    "4.  ¿Que edad tenía la madre más joven al momento del nacimiento?\n",
    "5.  ¿Qué edad tenía el padre más joven al momento del nacimiento?\n",
    "6.  ¿Qué edad tenía la madre más vieja en el momento del nacimiento?\n",
    "7.  ¿Qué edad tenía el padre más viejo en el momento del nacimiento?"
   ]
  },
  {
   "cell_type": "markdown",
   "metadata": {
    "id": "r0ZGTu5_bQGh"
   },
   "source": [
    "## <font color=\"#0896c9\">Nacimientos por departamento</font>"
   ]
  },
  {
   "cell_type": "code",
   "execution_count": null,
   "metadata": {
    "colab": {
     "base_uri": "https://localhost:8080/",
     "height": 497
    },
    "id": "K_BbPAAPZGLL",
    "outputId": "32fdc9ae-e611-4a69-d384-bdb924eca342"
   },
   "outputs": [],
   "source": [
    "porcNacXdpto<-as.data.frame(sort(prop.table(table(NacSimpl$Depocu))*100,decreasing = T))\n",
    "names(porcNacXdpto)<-c(\"Departamento\",\"Porciento\")\n",
    " \n",
    "g<-ggplot(porcNacXdpto, aes(x = Departamento, y = Porciento ))+ \n",
    "  geom_bar(stat = \"identity\", fill=mipaletaHex[3])+\n",
    "  labs(title=\"Porcentaje de nacimientos por Departamento\",\n",
    "        x =\"Departamentos\", y = \"Porciento\")+\n",
    "  theme_minimal()+\n",
    "  theme(axis.text.x = element_text(angle = 90))+\n",
    "  scale_y_discrete(name =\"Porciento\", \n",
    "                    limits=seq(0,20,5))\n",
    "  \n",
    "\n",
    "g"
   ]
  },
  {
   "cell_type": "markdown",
   "metadata": {
    "id": "bMZMNSQzcAAj"
   },
   "source": [
    "#### ¿Qué departamentos reportan mayor número de nacimientos?¿y menor?"
   ]
  },
  {
   "cell_type": "markdown",
   "metadata": {
    "id": "F2vqKHm-c0DK"
   },
   "source": [
    "## <font color=\"#0896c9\"> Estado civil de los padres</font>"
   ]
  },
  {
   "cell_type": "code",
   "execution_count": null,
   "metadata": {
    "colab": {
     "base_uri": "https://localhost:8080/",
     "height": 497
    },
    "id": "kAbm6Hdqb4zw",
    "outputId": "10580c74-6bdc-4932-957c-e0a7b392ce4a"
   },
   "outputs": [],
   "source": [
    "estCivPorcPadre<-as.data.frame(round(prop.table(table(NacSimpl$Escivp))*100,1))\n",
    "estCivPorcmadre<-as.data.frame(round(prop.table(table(NacSimpl$Escivm))*100,1))\n",
    "estCivPorcPadre$Padre<-\"Padre\"\n",
    "estCivPorcmadre$Padre<-\"Madre\"\n",
    "estCivPorcmadre$Var1<-c(\"Soltero\",\"Casado\",\"Unido\",\"Ignorado\")\n",
    "estCivPorc<-rbind(estCivPorcmadre,estCivPorcPadre)\n",
    "colnames(estCivPorc)<-c(\"EstadoCivil\",\"Porciento\",\"Parentezco\")\n",
    "rm(estCivPorcmadre,estCivPorcPadre)\n",
    "estCivPorc\n",
    "\n",
    "g <- ggplot(data=estCivPorc, aes(x=EstadoCivil, y=Porciento, fill=Parentezco)) +\n",
    "      geom_bar(stat=\"identity\", position=position_dodge()) +\n",
    "      scale_fill_manual(values = mipaletaHex[c(1,2)])+\n",
    "      theme_minimal()+\n",
    "      labs(title=\"Estado Civil del padre y la madre\",\n",
    "          x =\"Estado civil\", y = \"Porciento\")\n",
    "g"
   ]
  },
  {
   "cell_type": "markdown",
   "metadata": {
    "id": "9pjGbDqWi0Pe"
   },
   "source": [
    "\n",
    "\n",
    "1.   ¿Cuál es el estado civil que predomina en general?\n",
    "2.   ¿Cuál es el estado civil que predomina en las madres?\n",
    "3.   Si pudiera especular, ¿Qué explicación daría al comportamiento de la categoría donde se ignora el estado civil del padre y madre?\n",
    "\n"
   ]
  },
  {
   "cell_type": "markdown",
   "metadata": {
    "id": "IUPbhCIKjldL"
   },
   "source": [
    "## <font color=\"#0896c9\">Sexo del recién nacido</font>"
   ]
  },
  {
   "cell_type": "code",
   "execution_count": null,
   "metadata": {
    "colab": {
     "base_uri": "https://localhost:8080/",
     "height": 548
    },
    "id": "-3c3RGPJeBpL",
    "outputId": "5c010329-43ef-4adc-9bfd-c6b16112886d"
   },
   "outputs": [],
   "source": [
    "sexoPorc<-as.data.frame(round(prop.table(table(NacSimpl$Sexo))*100,0))\n",
    "names(sexoPorc)<-c(\"Sexo\", \"Porciento\")\n",
    "\n",
    "g<-ggplot(sexoPorc, aes(x = Sexo, y = Porciento, fill=Sexo ))+ \n",
    "  geom_bar(stat = \"identity\")+\n",
    "  labs(title=\"Porcentaje de nacimientos por Sexo\",\n",
    "        x =\"Sexo\", y = \"Porciento\")+\n",
    "  theme_minimal()+\n",
    "  scale_y_discrete(name =\"Porciento\", \n",
    "                    limits=seq(0,55,5))+\n",
    "  scale_fill_manual(values = mipaletaHex[c(2,1)])\n",
    "  \n",
    "print(sexoPorc)\n",
    "g"
   ]
  },
  {
   "cell_type": "markdown",
   "metadata": {
    "id": "XJT5jN8Ulsxj"
   },
   "source": [
    "¿Nacen más niños o más niñas?¿De cuánto es la diferencia?"
   ]
  },
  {
   "cell_type": "markdown",
   "metadata": {},
   "source": [
    "## <font color=\"#0896c9\">Nivel de escolaridad de los padres</font>"
   ]
  },
  {
   "cell_type": "code",
   "execution_count": null,
   "metadata": {
    "colab": {
     "base_uri": "https://localhost:8080/"
    },
    "id": "G2IHEjM8hJOM",
    "outputId": "2bc2cd86-42c6-444e-d692-3db433a56428"
   },
   "outputs": [],
   "source": [
    "escolaridadPorcP<-as.data.frame(round(prop.table(table(NacSimpl$Escolap))*100,3))\n",
    "escolaridadPorcM<-as.data.frame(round(prop.table(table(NacSimpl$Escolam))*100,3))\n",
    "escolaridadPorcM$Parentezco<-\"Madre\"\n",
    "escolaridadPorcP$Parentezco<-\"Padre\"\n",
    "escolaridadPorc<-rbind(escolaridadPorcM, escolaridadPorcP)\n",
    "names(escolaridadPorc)<-c(\"Escolaridad\", \"Porciento\", \"Parentezco\")\n",
    "rm(escolaridadPorcM,escolaridadPorcP)\n",
    "escolaridadPorc"
   ]
  },
  {
   "cell_type": "code",
   "execution_count": null,
   "metadata": {
    "colab": {
     "base_uri": "https://localhost:8080/",
     "height": 497
    },
    "id": "QSTXQo5fouNN",
    "outputId": "08b22a78-4627-4b2e-efda-5f78c7c8eb24"
   },
   "outputs": [],
   "source": [
    "g <- ggplot(data=escolaridadPorc, aes(x=Escolaridad, y=Porciento, fill=Parentezco)) +\n",
    "      geom_bar(stat=\"identity\", position=position_dodge()) +\n",
    "      scale_fill_manual(values = mipaletaHex[c(1,2)])+\n",
    "      theme_minimal()+\n",
    "      theme(axis.text.x = element_text(angle = 60))+\n",
    "      labs(title=\"Nivel de escolaridad del padre y la madre\",\n",
    "          x =\"Escolaridad\", y = \"Porciento\")\n",
    "g"
   ]
  },
  {
   "cell_type": "markdown",
   "metadata": {
    "id": "yIBU02-hpaqi"
   },
   "source": [
    "\n",
    "\n",
    "1.   ¿Cuál es el nivel de escolaridad que predomina para ambos padres?\n",
    "2.   ¿Cuál es el segundo nivel de escolaridad más frecuente para las madres?\n",
    "3.  ¿Cuál es el segundo nivel de escolaridad más frecuente para los padres?\n",
    "\n"
   ]
  },
  {
   "cell_type": "code",
   "execution_count": null,
   "metadata": {
    "colab": {
     "base_uri": "https://localhost:8080/",
     "height": 497
    },
    "id": "5p5NKJDopJVO",
    "outputId": "80a39fb6-9215-482c-c4d1-3a58ff1e387f"
   },
   "outputs": [],
   "source": [
    "edadPromMadre<-NacSimpl %>% group_by(Escolam) %>% summarise(promEdad = mean(Edadm, na.rm=TRUE))\n",
    "edadPromMadre$Parentezco<-\"Madre\"\n",
    "edadPromPadre<-NacSimpl %>% group_by(Escolap) %>% summarise(promEdad = mean(Edadp, na.rm=TRUE))\n",
    "edadPromPadre$Parentezco<-\"Padre\"\n",
    "colnames(edadPromMadre)<-c(\"Escolaridad\",\"EdadPromedio\",\"Parentezco\")\n",
    "colnames(edadPromPadre)<-c(\"Escolaridad\",\"EdadPromedio\",\"Parentezco\")\n",
    "edadPromSegunEscolaridad<-rbind(edadPromMadre,edadPromPadre)\n",
    "rm(edadPromPadre,edadPromMadre)\n",
    "g <- ggplot(data=edadPromSegunEscolaridad, aes(x=Escolaridad, y=EdadPromedio, fill=Parentezco)) +\n",
    "      geom_bar(stat=\"identity\", position=position_dodge()) +\n",
    "      scale_fill_manual(values = mipaletaHex[c(1,2)])+\n",
    "      theme_minimal()+\n",
    "      theme(axis.text.x = element_text(angle = 60))+\n",
    "      labs(title=\"Promedio de edad del padre y la madre, por nivel de escolaridad\",\n",
    "          x =\"Escolaridad\", y = \"Edad Promedio\")\n",
    "g"
   ]
  },
  {
   "cell_type": "markdown",
   "metadata": {
    "id": "N_Ca71nGgMlj"
   },
   "source": [
    "1. ¿En cuál nivel de escolaridad el promedio de edad es mayor en las mujeres?\n",
    "2. ¿En cuál nivel de escolaridad el promedio de edad es mayor en los hombres?\n",
    "3. ¿Quién se demora más en tener hijos, las mujeres o los hombres?¿Por qué cree que esto sucede?"
   ]
  }
 ],
 "metadata": {
  "colab": {
   "collapsed_sections": [],
   "name": "Nacimientos_R",
   "provenance": []
  },
  "interpreter": {
   "hash": "73676a5367f5170ad41cdeaf315380da2458478ad113d30dee38c07f98a9f6a8"
  },
  "kernelspec": {
   "display_name": "R",
   "language": "R",
   "name": "ir"
  },
  "language_info": {
   "codemirror_mode": "r",
   "file_extension": ".r",
   "mimetype": "text/x-r-source",
   "name": "R",
   "pygments_lexer": "r",
   "version": "4.0.3"
  }
 },
 "nbformat": 4,
 "nbformat_minor": 1
}
